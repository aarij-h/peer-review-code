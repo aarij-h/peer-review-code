{
 "cells": [
  {
   "cell_type": "markdown",
   "id": "b2e6ac9e-7f75-45b6-928e-1e8dfdf4800a",
   "metadata": {},
   "source": [
    "# Data Science Tools and Ecosystem"
   ]
  },
  {
   "cell_type": "markdown",
   "id": "29833382-69cc-417e-80a5-b5b4c7435cf9",
   "metadata": {},
   "source": [
    "In this notebook, Data Science Tools and Ecosystem are summarized."
   ]
  },
  {
   "cell_type": "markdown",
   "id": "d424994a-e80f-44f1-85e6-ff92b78d663b",
   "metadata": {},
   "source": [
    "__Objectives:__\n",
    "\n",
    "- Basic idea of popular languages used for Data science\n",
    "- How Data can be visualized and plotted using R\n",
    "- Different libraries used in Data science\n",
    "- Development environments and open source tools for Data Science"
   ]
  },
  {
   "cell_type": "markdown",
   "id": "24c3867d-70a3-4aba-9b2d-89a851d0cdcb",
   "metadata": {},
   "source": [
    "Some of the popular languages that Data Scientists use are:\n",
    "\n",
    "1. Python\n",
    "2. R\n",
    "3. SQL"
   ]
  },
  {
   "cell_type": "markdown",
   "id": "efd017a9-47b0-4ad5-8858-65dd748620f2",
   "metadata": {},
   "source": [
    "Some of the commonly used libraries used by Data Scientists include:\n",
    "\n",
    "1. NumPy\n",
    "2. Pandas\n",
    "3. Scikit-learn"
   ]
  },
  {
   "cell_type": "markdown",
   "id": "dbdd4464-caf3-4a18-a4bd-2a34d6ef7903",
   "metadata": {},
   "source": [
    "| Data Science|\n",
    "|-------|\n",
    "| Jupyter Notebook / JupyterLab |\n",
    "| RStudio |\n",
    "| Apache Zeppelin |"
   ]
  },
  {
   "cell_type": "markdown",
   "id": "1d7517e0-013b-446e-aeb8-f600f15d5785",
   "metadata": {},
   "source": [
    "### Below are a few examples of evaluating arithmetic expressions in Python"
   ]
  },
  {
   "cell_type": "code",
   "execution_count": 3,
   "id": "4b2aa54d-eff4-4cdb-a5a4-ea60957a9107",
   "metadata": {},
   "outputs": [
    {
     "data": {
      "text/plain": [
       "17"
      ]
     },
     "execution_count": 3,
     "metadata": {},
     "output_type": "execute_result"
    }
   ],
   "source": [
    "# This a simple arithmetic expression to mutiply then add integers:\n",
    "\n",
    "(3*4)+5"
   ]
  },
  {
   "cell_type": "code",
   "execution_count": 5,
   "id": "9412580f-6942-4dc5-b142-d88082aa9015",
   "metadata": {},
   "outputs": [
    {
     "name": "stdout",
     "output_type": "stream",
     "text": [
      "3.3333333333333335 minutes\n"
     ]
    }
   ],
   "source": [
    "# This will convert 200 minutes to hours by diving by 60\n",
    "\n",
    "print(str(200/60) + \" minutes\")"
   ]
  },
  {
   "cell_type": "markdown",
   "id": "b78728d3-9dac-4abe-bd92-50d195a0ceb0",
   "metadata": {},
   "source": [
    "## Author\n",
    "Aarij H."
   ]
  },
  {
   "cell_type": "code",
   "execution_count": null,
   "id": "d8db0635-4cd6-480e-81e2-1170e911ef75",
   "metadata": {},
   "outputs": [],
   "source": []
  }
 ],
 "metadata": {
  "kernelspec": {
   "display_name": "Python 3 (ipykernel)",
   "language": "python",
   "name": "python3"
  },
  "language_info": {
   "codemirror_mode": {
    "name": "ipython",
    "version": 3
   },
   "file_extension": ".py",
   "mimetype": "text/x-python",
   "name": "python",
   "nbconvert_exporter": "python",
   "pygments_lexer": "ipython3",
   "version": "3.11.7"
  }
 },
 "nbformat": 4,
 "nbformat_minor": 5
}
